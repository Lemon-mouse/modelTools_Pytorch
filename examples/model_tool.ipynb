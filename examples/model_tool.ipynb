{
 "cells": [
  {
   "cell_type": "markdown",
   "metadata": {},
   "source": [
    "# This is an exmaple of auto training Pytorch Model"
   ]
  },
  {
   "cell_type": "code",
   "execution_count": 1,
   "metadata": {},
   "outputs": [],
   "source": [
    "import os\n",
    "import sys\n",
    "sys.path.append('../')\n",
    "\n",
    "import numpy\n",
    "import torch\n",
    "import torchvision\n",
    "import torch.nn as nn\n",
    "from torch.utils.data import DataLoader\n",
    "from torchvision import models, datasets, transforms\n",
    "\n",
    "from tools.modelTool import ModelTool"
   ]
  },
  {
   "cell_type": "code",
   "execution_count": 2,
   "metadata": {},
   "outputs": [],
   "source": [
    "def make_layers(cfg, batch_norm=False):\n",
    "    layers = []\n",
    "    in_channels = 1\n",
    "    for v in cfg:\n",
    "        if v == 'M':\n",
    "            layers += [nn.MaxPool2d(kernel_size=2, stride=2)]\n",
    "        else:\n",
    "            conv2d = nn.Conv2d(in_channels, v, kernel_size=3, padding=1)\n",
    "            if batch_norm:\n",
    "                layers += [conv2d, nn.BatchNorm2d(v), nn.ReLU(inplace=True)]\n",
    "            else:\n",
    "                layers += [conv2d, nn.ReLU(inplace=True)]\n",
    "            in_channels = v\n",
    "    return nn.Sequential(*layers)\n",
    "\n",
    "\n",
    "cfgs = {\n",
    "    'A': [64, 'M', 128, 'M', 256, 256, 'M', 512, 512, 'M', 512, 512, 'M'],\n",
    "    'B':\n",
    "    [64, 64, 'M', 128, 128, 'M', 256, 256, 'M', 512, 512, 'M', 512, 512, 'M'],\n",
    "    'D': [\n",
    "        64, 64, 'M', 128, 128, 'M', 256, 256, 256, 'M', 512, 512, 512, 'M',\n",
    "        512, 512, 512, 'M'\n",
    "    ],\n",
    "    'E': [\n",
    "        64, 64, 'M', 128, 128, 'M', 256, 256, 256, 256, 'M', 512, 512, 512,\n",
    "        512, 'M', 512, 512, 512, 512, 'M'\n",
    "    ],\n",
    "}"
   ]
  },
  {
   "cell_type": "code",
   "execution_count": 3,
   "metadata": {},
   "outputs": [],
   "source": [
    "model = models.VGG(make_layers(cfgs['A']), 10)\n",
    "model_name = 'vgg'\n",
    "file_path = '../tmp/vgg.pth'\n",
    "mt = ModelTool(model, model_name, file_path)\n",
    "\n",
    "train_transform = transforms.Compose([\n",
    "    transforms.Resize(32),\n",
    "    transforms.ToTensor(),\n",
    "])\n",
    "test_transform = transforms.Compose([\n",
    "    transforms.Resize(32),\n",
    "    transforms.ToTensor(),\n",
    "])\n",
    "\n",
    "train_set = datasets.MNIST(\n",
    "    '../tmp/dataset/mnist',\n",
    "    train=True,\n",
    "    transform=train_transform,\n",
    "    download=True,\n",
    ")\n",
    "test_set = datasets.MNIST('../tmp/dataset/mnist',\n",
    "                               train=False,\n",
    "                               transform=test_transform,\n",
    "                               download=True)\n",
    "\n",
    "train_loader = DataLoader(train_set, 128)\n",
    "test_loader = DataLoader(test_set, 128)"
   ]
  },
  {
   "cell_type": "code",
   "execution_count": 4,
   "metadata": {},
   "outputs": [
    {
     "name": "stdout",
     "output_type": "stream",
     "text": [
      "Epoch:  1\n",
      "100%[================>] Step:37ms | Total:20s247ms | Loss: 1.076 | Acc: 62.067 % (37240/60000)\n",
      "100%[================>] Step:6ms | Total:1s902ms | Loss: 0.236 | Acc: 92.270 % (9227/10000)\n",
      "===> Save model to  ../tmp/vgg.pth\n",
      "Epoch:  2\n",
      "100%[================>] Step:36ms | Total:20s254ms | Loss: 0.116 | Acc: 96.565 % (57939/60000)\n",
      "100%[================>] Step:5ms | Total:1s901ms | Loss: 0.086 | Acc: 97.260 % (9726/10000)\n",
      "===> Save model to  ../tmp/vgg.pth\n",
      "Epoch:  3\n",
      "100%[================>] Step:35ms | Total:20s61ms | Loss: 0.064 | Acc: 98.062 % (58837/60000))\n",
      "100%[================>] Step:5ms | Total:1s848ms | Loss: 0.067 | Acc: 97.940 % (9794/10000)\n",
      "===> Save model to  ../tmp/vgg.pth\n",
      "Epoch:  4\n",
      "100%[================>] Step:35ms | Total:20s26ms | Loss: 0.043 | Acc: 98.678 % (59207/60000))\n",
      "100%[================>] Step:5ms | Total:1s796ms | Loss: 0.044 | Acc: 98.620 % (9862/10000)\n",
      "===> Save model to  ../tmp/vgg.pth\n",
      "Epoch:  5\n",
      "100%[================>] Step:37ms | Total:19s836ms | Loss: 0.031 | Acc: 99.100 % (59460/60000)\n",
      "100%[================>] Step:6ms | Total:1s875ms | Loss: 0.041 | Acc: 98.680 % (9868/10000)\n",
      "===> Save model to  ../tmp/vgg.pth\n",
      "===> Save model to  ../tmp/vgg-epoch-5.pth\n"
     ]
    }
   ],
   "source": [
    "mt.auto_train(train_loader, test_loader, epoch_max=5, save_epoch=5)"
   ]
  },
  {
   "cell_type": "code",
   "execution_count": null,
   "metadata": {},
   "outputs": [],
   "source": []
  }
 ],
 "metadata": {
  "kernelspec": {
   "display_name": "Python 3",
   "language": "python",
   "name": "python3"
  },
  "language_info": {
   "codemirror_mode": {
    "name": "ipython",
    "version": 3
   },
   "file_extension": ".py",
   "mimetype": "text/x-python",
   "name": "python",
   "nbconvert_exporter": "python",
   "pygments_lexer": "ipython3",
   "version": "3.6.5"
  }
 },
 "nbformat": 4,
 "nbformat_minor": 4
}